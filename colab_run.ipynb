{
  "cells": [
    {
      "cell_type": "markdown",
      "source": [
        "**Clone And Install Dependencies**"
      ],
      "metadata": {
        "id": "8wFMxepOPz7V"
      }
    },
    {
      "cell_type": "code",
      "execution_count": null,
      "metadata": {
        "id": "rVhsAhtTMxD7"
      },
      "outputs": [],
      "source": [
        "!git clone https://github.com/Yui007/weebcentral_downloader\n",
        "# Install dependencies first\n",
        "!pip install requests beautifulsoup4 selenium tqdm IPython ipywidgets\n"
      ]
    },
    {
      "cell_type": "markdown",
      "source": [
        "***Run The Scraper***"
      ],
      "metadata": {
        "id": "1KcdYk4wP50B"
      }
    },
    {
      "cell_type": "code",
      "source": [
        "%cd /content/weebcentral_downloader\n",
        "!python weebcentral_scraper_colab.py"
      ],
      "metadata": {
        "id": "D4zGm7RyOVqn"
      },
      "execution_count": null,
      "outputs": []
    },
    {
      "cell_type": "markdown",
      "source": [
        "**Zip The Manga Folder for Easy Download**"
      ],
      "metadata": {
        "id": "QbuhQmOlQvNM"
      }
    },
    {
      "cell_type": "code",
      "source": [
        "# Add this as a new cell in your notebook\n",
        "import os\n",
        "import shutil\n",
        "\n",
        "# Replace 'manga_downloads' with your output directory name if different\n",
        "output_dir = '/content/weebcentral_downloader/manga_downloads'\n",
        "\n",
        "if os.path.exists(output_dir):\n",
        "    # Get all manga folders\n",
        "    manga_folders = [d for d in os.listdir(output_dir)\n",
        "                    if os.path.isdir(os.path.join(output_dir, d))]\n",
        "\n",
        "    if manga_folders:\n",
        "        print(\"Available manga folders:\")\n",
        "        for i, folder in enumerate(manga_folders, 1):\n",
        "            print(f\"{i}. {folder}\")\n",
        "\n",
        "        # Let user choose which folder to zip\n",
        "        choice = int(input(\"\\nEnter the number of the folder to zip (1, 2, etc.): \")) - 1\n",
        "        if 0 <= choice < len(manga_folders):\n",
        "            folder_name = manga_folders[choice]\n",
        "            folder_path = os.path.join(output_dir, folder_name)\n",
        "            zip_path = f\"/content/{folder_name}.zip\"\n",
        "\n",
        "            print(f\"\\nCreating zip file for {folder_name}...\")\n",
        "            shutil.make_archive(f\"/content/{folder_name}\", 'zip', folder_path)\n",
        "\n",
        "            print(f\"\\nZip file created at: {zip_path}\")\n",
        "            print(\"You can now download it manually from the Colab file browser.\")\n",
        "        else:\n",
        "            print(\"Invalid choice!\")\n",
        "    else:\n",
        "        print(\"No manga folders found!\")\n",
        "else:\n",
        "    print(f\"Directory {output_dir} not found!\")"
      ],
      "metadata": {
        "id": "9xucN9ubQuWR"
      },
      "execution_count": null,
      "outputs": []
    },
    {
      "cell_type": "markdown",
      "source": [
        "**If File Size Is Bigger Than 200MB and If You Want To Download In Chunkz**"
      ],
      "metadata": {
        "id": "ddl9Y_NISzog"
      }
    },
    {
      "cell_type": "code",
      "source": [
        "# Fast downloading using splits\n",
        "import os\n",
        "import math\n",
        "\n",
        "# Replace 'manga_downloads' with your output directory name if different\n",
        "output_dir = '/content/weebcentral_downloader/manga_downloads'\n",
        "\n",
        "# Size of each split in MB\n",
        "SPLIT_SIZE_MB = 200  # Adjust this value as needed\n",
        "\n",
        "if os.path.exists(output_dir):\n",
        "    # Get all manga folders\n",
        "    manga_folders = [d for d in os.listdir(output_dir)\n",
        "                    if os.path.isdir(os.path.join(output_dir, d))]\n",
        "\n",
        "    if manga_folders:\n",
        "        print(\"Available manga folders:\")\n",
        "        for i, folder in enumerate(manga_folders, 1):\n",
        "            print(f\"{i}. {folder}\")\n",
        "\n",
        "        # Let user choose which folder to split\n",
        "        choice = int(input(\"\\nEnter the number of the folder to split (1, 2, etc.): \")) - 1\n",
        "        if 0 <= choice < len(manga_folders):\n",
        "            folder_name = manga_folders[choice]\n",
        "            folder_path = os.path.join(output_dir, folder_name)\n",
        "\n",
        "            print(f\"\\nCreating split archives for {folder_name}...\")\n",
        "\n",
        "            # Create splits using 7z\n",
        "            # -v200m : split into 200MB chunks (adjust size as needed)\n",
        "            # -mx=1 : fastest compression\n",
        "            # -mmt=on : multi-threading\n",
        "            !7z a -v{SPLIT_SIZE_MB}m -mx=1 -mmt=on \"/content/{folder_name}.7z\" \"{folder_path}\"/*\n",
        "\n",
        "            # Count the number of splits\n",
        "            splits = [f for f in os.listdir('/content') if f.startswith(f\"{folder_name}.7z\")]\n",
        "\n",
        "            print(f\"\\nCreated {len(splits)} split files at /content/:\")\n",
        "            for split in splits:\n",
        "                size_mb = os.path.getsize(f\"/content/{split}\") / (1024 * 1024)\n",
        "                print(f\"- {split} ({size_mb:.1f} MB)\")\n",
        "\n",
        "            print(\"\\nYou can now download these splits from the Colab file browser.\")\n",
        "            print(\"After downloading, combine them using 7-Zip on your PC.\")\n",
        "        else:\n",
        "            print(\"Invalid choice!\")\n",
        "    else:\n",
        "        print(\"No manga folders found!\")\n",
        "else:\n",
        "    print(f\"Directory {output_dir} not found!\")"
      ],
      "metadata": {
        "id": "tbfmXqqtS5ZI"
      },
      "execution_count": null,
      "outputs": []
    }
  ],
  "metadata": {
    "language_info": {
      "name": "python"
    },
    "colab": {
      "provenance": []
    },
    "kernelspec": {
      "name": "python3",
      "display_name": "Python 3"
    }
  },
  "nbformat": 4,
  "nbformat_minor": 0
}
